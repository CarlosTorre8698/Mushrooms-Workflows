{
 "cells": [
  {
   "cell_type": "code",
   "execution_count": 5,
   "id": "5fd3f82a-11bb-40c0-b666-dfaf19aa148c",
   "metadata": {},
   "outputs": [
    {
     "name": "stdout",
     "output_type": "stream",
     "text": [
      "Precisión: 1.0\n",
      "[[832   0]\n",
      " [  0 793]]\n"
     ]
    },
    {
     "data": {
      "image/png": "[encoded data removed]",
      "text/plain": [
       "<Figure size 288x288 with 1 Axes>"
      ]
     },
     "metadata": {
      "needs_background": "light"
     },
     "output_type": "display_data"
    }
   ],
   "source": [
    "import pandas as pd\n",
    "import matplotlib.pyplot as plt\n",
    "from sklearn.model_selection import train_test_split\n",
    "from sklearn.ensemble import RandomForestClassifier\n",
    "from sklearn.metrics import accuracy_score, confusion_matrix\n",
    "\n",
    "# Cargar el dataset como un DataFrame de Pandas\n",
    "df = pd.read_csv(\"mushrooms.csv\")\n",
    "\n",
    "# Convertir las columnas categóricas en números utilizando get_dummies\n",
    "df = pd.get_dummies(df, columns=df.columns[df.dtypes == \"object\"], prefix=df.columns[df.dtypes == \"object\"])\n",
    "\n",
    "# Separar el dataset en datos de entrenamiento y de prueba\n",
    "X_train, X_test, y_train, y_test = train_test_split(df.drop(\"class_p\", axis=1), df[\"class_p\"], test_size=0.2)\n",
    "\n",
    "# Entrenar un clasificador Random Forest\n",
    "clf = RandomForestClassifier()\n",
    "clf.fit(X_train, y_train)\n",
    "\n",
    "# Hacer predicciones en los datos de prueba\n",
    "y_pred = clf.predict(X_test)\n",
    "\n",
    "# Calcular la precisión de las predicciones\n",
    "acc = accuracy_score(y_test, y_pred)\n",
    "print(\"Precisión:\", acc)\n",
    "\n",
    "# Calcular y visualizar la matriz de confusión\n",
    "conf_matrix = confusion_matrix(y_test, y_pred)\n",
    "print(conf_matrix)\n",
    "plt.matshow(conf_matrix, cmap=plt.cm.gray)\n",
    "plt.title(\"Matriz de Confusión\")\n",
    "plt.xlabel(\"Predicho\")\n",
    "plt.ylabel(\"Real\")\n",
    "plt.show()\n"
   ]
  }
 ],
 "metadata": {
  "kernelspec": {
   "display_name": "Python 3",
   "language": "python",
   "name": "python3"
  },
  "language_info": {
   "codemirror_mode": {
    "name": "ipython",
    "version": 3
   },
   "file_extension": ".py",
   "mimetype": "text/x-python",
   "name": "python",
   "nbconvert_exporter": "python",
   "pygments_lexer": "ipython3",
   "version": "3.6.15"
  }
 },
 "nbformat": 4,
 "nbformat_minor": 5
}
